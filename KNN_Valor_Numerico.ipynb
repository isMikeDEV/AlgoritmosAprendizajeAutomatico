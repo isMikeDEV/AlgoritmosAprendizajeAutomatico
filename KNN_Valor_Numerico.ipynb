{
  "nbformat": 4,
  "nbformat_minor": 0,
  "metadata": {
    "colab": {
      "provenance": []
    },
    "kernelspec": {
      "name": "python3",
      "display_name": "Python 3"
    },
    "language_info": {
      "name": "python"
    }
  },
  "cells": [
    {
      "cell_type": "code",
      "execution_count": null,
      "metadata": {
        "id": "EM5ewYOvw1ti"
      },
      "outputs": [],
      "source": [
        "import pandas as ps"
      ]
    },
    {
      "cell_type": "code",
      "source": [
        "import numpy as np"
      ],
      "metadata": {
        "id": "NN2aEr_Cx0Mj"
      },
      "execution_count": null,
      "outputs": []
    },
    {
      "cell_type": "code",
      "source": [
        "import seaborn as sb"
      ],
      "metadata": {
        "id": "DBiEbTQGx17k"
      },
      "execution_count": null,
      "outputs": []
    },
    {
      "cell_type": "code",
      "source": [
        "from sklearn.metrics import confusion_matrix\n",
        "from sklearn.metrics import classification_report\n",
        "from sklearn.neighbors import KNeighborsClassifier\n",
        "from sklearn.preprocessing import StandardScaler\n",
        "from sklearn.neighbors import KNeighborsRegressor\n",
        "from sklearn.model_selection import train_test_split"
      ],
      "metadata": {
        "id": "dPHoQlPGx4HL"
      },
      "execution_count": null,
      "outputs": []
    },
    {
      "cell_type": "code",
      "source": [
        "\n",
        "datos = ps.read_csv('/content/rezagoslp.csv', delimiter = ';')"
      ],
      "metadata": {
        "id": "b_dKcAJdyJnN"
      },
      "execution_count": null,
      "outputs": []
    },
    {
      "cell_type": "code",
      "source": [
        "datos"
      ],
      "metadata": {
        "id": "bCUSRJFyyNl0"
      },
      "execution_count": null,
      "outputs": []
    },
    {
      "cell_type": "code",
      "source": [
        "datos.head(1)"
      ],
      "metadata": {
        "id": "kbFW6_X8yvwd"
      },
      "execution_count": null,
      "outputs": []
    },
    {
      "cell_type": "code",
      "source": [
        "datos.info()"
      ],
      "metadata": {
        "colab": {
          "base_uri": "https://localhost:8080/"
        },
        "id": "Od-R26kpy0ed",
        "outputId": "083d78ba-1e52-4496-97d2-5ff91df90f66"
      },
      "execution_count": null,
      "outputs": [
        {
          "output_type": "stream",
          "name": "stdout",
          "text": [
            "<class 'pandas.core.frame.DataFrame'>\n",
            "RangeIndex: 54 entries, 0 to 53\n",
            "Data columns (total 15 columns):\n",
            " #   Column         Non-Null Count  Dtype  \n",
            "---  ------         --------------  -----  \n",
            " 0   Municipio      54 non-null     object \n",
            " 1   Poblacion      54 non-null     object \n",
            " 2   p15a           54 non-null     float64\n",
            " 3   p6a14noe       54 non-null     float64\n",
            " 4   p15ymbin       54 non-null     float64\n",
            " 5   psiss          54 non-null     float64\n",
            " 6   vipt           54 non-null     float64\n",
            " 7   visexsa        54 non-null     float64\n",
            " 8   visagen        54 non-null     float64\n",
            " 9   visidr         54 non-null     float64\n",
            " 10  visee          54 non-null     float64\n",
            " 11  visila         54 non-null     float64\n",
            " 12  visire         54 non-null     float64\n",
            " 13  Rezago         54 non-null     object \n",
            " 14  clasificacion  54 non-null     int64  \n",
            "dtypes: float64(11), int64(1), object(3)\n",
            "memory usage: 6.5+ KB\n"
          ]
        }
      ]
    },
    {
      "cell_type": "code",
      "source": [
        "print(datos.groupby('clasificacion').size())"
      ],
      "metadata": {
        "colab": {
          "base_uri": "https://localhost:8080/"
        },
        "id": "iPHdZP9W7Nrm",
        "outputId": "d889a7a6-f123-498a-d707-70d04ee8760f"
      },
      "execution_count": null,
      "outputs": [
        {
          "output_type": "stream",
          "name": "stdout",
          "text": [
            "clasificacion\n",
            "1     7\n",
            "2    28\n",
            "3    14\n",
            "4     4\n",
            "5     1\n",
            "dtype: int64\n"
          ]
        }
      ]
    },
    {
      "cell_type": "code",
      "source": [
        "datos2 = datos[['p15a', 'p6a14noe', 'p15ymbin', 'psiss', 'vipt', 'visexsa', 'visagen', 'visidr', 'visee']]"
      ],
      "metadata": {
        "id": "IFGQzjSC7qrk"
      },
      "execution_count": null,
      "outputs": []
    },
    {
      "cell_type": "code",
      "source": [
        "X_train, X_test = train_test_split(datos2, test_size = 0.3, random_state = 42)"
      ],
      "metadata": {
        "id": "lbuiRo267yVn"
      },
      "execution_count": null,
      "outputs": []
    },
    {
      "cell_type": "code",
      "source": [
        "y_train = X_train['psiss']\n",
        "y_test = X_test['psiss']\n",
        "X_train = X_train.drop(['psiss'], axis=1)"
      ],
      "metadata": {
        "id": "HlKLkPa171K2"
      },
      "execution_count": null,
      "outputs": []
    },
    {
      "cell_type": "code",
      "source": [
        "X_train"
      ],
      "metadata": {
        "colab": {
          "base_uri": "https://localhost:8080/",
          "height": 1000
        },
        "id": "0fd-Syub7523",
        "outputId": "60bba5fd-e077-4239-e820-b4cfbac1a78d"
      },
      "execution_count": null,
      "outputs": [
        {
          "output_type": "execute_result",
          "data": {
            "text/plain": [
              "    p15a  p6a14noe  p15ymbin  vipt  visexsa  visagen  visidr  visee\n",
              "24   1.8       4.9      18.6   1.3      0.5      1.6     0.7    0.3\n",
              "45   6.6       4.9      40.7   6.5      6.3      4.2     7.2    1.2\n",
              "33  10.1       3.3      33.6  20.0      2.1     30.1    27.3    2.7\n",
              "50  10.2       5.9      41.2   6.8      6.4     10.1    10.5    1.3\n",
              "15  14.3       6.7      53.4   5.0      3.0     10.8    33.3    2.8\n",
              "9    7.8       2.4      36.7  19.2      2.7     38.9    20.6    6.0\n",
              "16   3.6       3.9      26.9   1.5      0.6      6.2     5.8    0.7\n",
              "30   8.7       3.7      37.0  13.0      1.6     10.3    29.2    2.8\n",
              "36   8.9       3.2      37.1  16.3      5.0      6.1    58.8    4.1\n",
              "25  16.0       3.0      43.3  20.0      1.8     36.5    40.4    2.4\n",
              "11   9.4       2.9      40.9  12.7      1.9     35.6    49.4    4.2\n",
              "0    8.0       5.2      39.7   8.4      8.1     16.2    11.4    2.7\n",
              "47  10.5       4.8      52.7  11.5      1.6      6.6    28.3    2.4\n",
              "27  21.7       8.1      60.7  11.1     11.0     48.5    59.7    8.2\n",
              "31   1.8       4.2      19.1   1.0      0.4      0.8     0.4    0.3\n",
              "40   8.8       3.6      43.5   3.3      4.8     11.7     8.3    4.9\n",
              "29  10.4       9.3      57.4   4.8      5.3     10.7     7.0    1.2\n",
              "46   7.1       4.7      42.3   2.4      4.0     11.2    10.1    1.8\n",
              "1   11.2       5.0      50.4   7.2      2.8     28.6    33.7    2.7\n",
              "21   5.1       5.1      42.0   3.7      4.5      9.4     9.0    1.5\n",
              "2   10.4      16.8      57.4   3.5      5.2     13.9    14.9    3.3\n",
              "41   7.1       6.4      46.7   3.1     17.0     10.5    25.5    2.2\n",
              "39   7.5       5.9      44.0   4.7      2.8     19.6    27.4    1.0\n",
              "35   6.6       3.5      35.3   9.3      1.4      8.4    14.0    2.3\n",
              "23   9.3       7.2      46.6   6.0      3.2      5.5     7.4    2.2\n",
              "43   5.7       2.7      32.7   2.1      2.6      2.0     5.7    0.8\n",
              "10   4.2       3.3      24.9   6.1      1.4      3.2     6.0    1.7\n",
              "22  10.1       2.4      38.9  12.2      5.4     22.1    43.5    5.0\n",
              "18   9.1       5.1      47.1   4.2      6.6      9.0    15.6    2.2\n",
              "53   5.3       6.5      37.4   3.0      1.6      2.2     5.5    1.8\n",
              "20   6.8       5.1      35.8   8.0      1.4      7.0     7.7    1.7\n",
              "7    7.4       5.4      43.1   5.6      1.8     17.7    21.2    1.8\n",
              "42  11.9       4.8      53.5   5.6      3.6     31.5    29.4    2.5\n",
              "14   9.0       3.4      38.7  15.3      2.0     26.5    25.5    5.8\n",
              "28   7.8       7.6      42.4   5.9      9.1     13.7    10.9    4.0\n",
              "51  10.3       6.7      44.5   3.3      3.4      4.9     7.1    1.9\n",
              "38  12.0       6.6      49.8   6.9      8.5      8.0    11.7    3.5"
            ],
            "text/html": [
              "\n",
              "  <div id=\"df-f9b39b3b-b3a9-4da0-a2c6-8e5511f823a3\">\n",
              "    <div class=\"colab-df-container\">\n",
              "      <div>\n",
              "<style scoped>\n",
              "    .dataframe tbody tr th:only-of-type {\n",
              "        vertical-align: middle;\n",
              "    }\n",
              "\n",
              "    .dataframe tbody tr th {\n",
              "        vertical-align: top;\n",
              "    }\n",
              "\n",
              "    .dataframe thead th {\n",
              "        text-align: right;\n",
              "    }\n",
              "</style>\n",
              "<table border=\"1\" class=\"dataframe\">\n",
              "  <thead>\n",
              "    <tr style=\"text-align: right;\">\n",
              "      <th></th>\n",
              "      <th>p15a</th>\n",
              "      <th>p6a14noe</th>\n",
              "      <th>p15ymbin</th>\n",
              "      <th>vipt</th>\n",
              "      <th>visexsa</th>\n",
              "      <th>visagen</th>\n",
              "      <th>visidr</th>\n",
              "      <th>visee</th>\n",
              "    </tr>\n",
              "  </thead>\n",
              "  <tbody>\n",
              "    <tr>\n",
              "      <th>24</th>\n",
              "      <td>1.8</td>\n",
              "      <td>4.9</td>\n",
              "      <td>18.6</td>\n",
              "      <td>1.3</td>\n",
              "      <td>0.5</td>\n",
              "      <td>1.6</td>\n",
              "      <td>0.7</td>\n",
              "      <td>0.3</td>\n",
              "    </tr>\n",
              "    <tr>\n",
              "      <th>45</th>\n",
              "      <td>6.6</td>\n",
              "      <td>4.9</td>\n",
              "      <td>40.7</td>\n",
              "      <td>6.5</td>\n",
              "      <td>6.3</td>\n",
              "      <td>4.2</td>\n",
              "      <td>7.2</td>\n",
              "      <td>1.2</td>\n",
              "    </tr>\n",
              "    <tr>\n",
              "      <th>33</th>\n",
              "      <td>10.1</td>\n",
              "      <td>3.3</td>\n",
              "      <td>33.6</td>\n",
              "      <td>20.0</td>\n",
              "      <td>2.1</td>\n",
              "      <td>30.1</td>\n",
              "      <td>27.3</td>\n",
              "      <td>2.7</td>\n",
              "    </tr>\n",
              "    <tr>\n",
              "      <th>50</th>\n",
              "      <td>10.2</td>\n",
              "      <td>5.9</td>\n",
              "      <td>41.2</td>\n",
              "      <td>6.8</td>\n",
              "      <td>6.4</td>\n",
              "      <td>10.1</td>\n",
              "      <td>10.5</td>\n",
              "      <td>1.3</td>\n",
              "    </tr>\n",
              "    <tr>\n",
              "      <th>15</th>\n",
              "      <td>14.3</td>\n",
              "      <td>6.7</td>\n",
              "      <td>53.4</td>\n",
              "      <td>5.0</td>\n",
              "      <td>3.0</td>\n",
              "      <td>10.8</td>\n",
              "      <td>33.3</td>\n",
              "      <td>2.8</td>\n",
              "    </tr>\n",
              "    <tr>\n",
              "      <th>9</th>\n",
              "      <td>7.8</td>\n",
              "      <td>2.4</td>\n",
              "      <td>36.7</td>\n",
              "      <td>19.2</td>\n",
              "      <td>2.7</td>\n",
              "      <td>38.9</td>\n",
              "      <td>20.6</td>\n",
              "      <td>6.0</td>\n",
              "    </tr>\n",
              "    <tr>\n",
              "      <th>16</th>\n",
              "      <td>3.6</td>\n",
              "      <td>3.9</td>\n",
              "      <td>26.9</td>\n",
              "      <td>1.5</td>\n",
              "      <td>0.6</td>\n",
              "      <td>6.2</td>\n",
              "      <td>5.8</td>\n",
              "      <td>0.7</td>\n",
              "    </tr>\n",
              "    <tr>\n",
              "      <th>30</th>\n",
              "      <td>8.7</td>\n",
              "      <td>3.7</td>\n",
              "      <td>37.0</td>\n",
              "      <td>13.0</td>\n",
              "      <td>1.6</td>\n",
              "      <td>10.3</td>\n",
              "      <td>29.2</td>\n",
              "      <td>2.8</td>\n",
              "    </tr>\n",
              "    <tr>\n",
              "      <th>36</th>\n",
              "      <td>8.9</td>\n",
              "      <td>3.2</td>\n",
              "      <td>37.1</td>\n",
              "      <td>16.3</td>\n",
              "      <td>5.0</td>\n",
              "      <td>6.1</td>\n",
              "      <td>58.8</td>\n",
              "      <td>4.1</td>\n",
              "    </tr>\n",
              "    <tr>\n",
              "      <th>25</th>\n",
              "      <td>16.0</td>\n",
              "      <td>3.0</td>\n",
              "      <td>43.3</td>\n",
              "      <td>20.0</td>\n",
              "      <td>1.8</td>\n",
              "      <td>36.5</td>\n",
              "      <td>40.4</td>\n",
              "      <td>2.4</td>\n",
              "    </tr>\n",
              "    <tr>\n",
              "      <th>11</th>\n",
              "      <td>9.4</td>\n",
              "      <td>2.9</td>\n",
              "      <td>40.9</td>\n",
              "      <td>12.7</td>\n",
              "      <td>1.9</td>\n",
              "      <td>35.6</td>\n",
              "      <td>49.4</td>\n",
              "      <td>4.2</td>\n",
              "    </tr>\n",
              "    <tr>\n",
              "      <th>0</th>\n",
              "      <td>8.0</td>\n",
              "      <td>5.2</td>\n",
              "      <td>39.7</td>\n",
              "      <td>8.4</td>\n",
              "      <td>8.1</td>\n",
              "      <td>16.2</td>\n",
              "      <td>11.4</td>\n",
              "      <td>2.7</td>\n",
              "    </tr>\n",
              "    <tr>\n",
              "      <th>47</th>\n",
              "      <td>10.5</td>\n",
              "      <td>4.8</td>\n",
              "      <td>52.7</td>\n",
              "      <td>11.5</td>\n",
              "      <td>1.6</td>\n",
              "      <td>6.6</td>\n",
              "      <td>28.3</td>\n",
              "      <td>2.4</td>\n",
              "    </tr>\n",
              "    <tr>\n",
              "      <th>27</th>\n",
              "      <td>21.7</td>\n",
              "      <td>8.1</td>\n",
              "      <td>60.7</td>\n",
              "      <td>11.1</td>\n",
              "      <td>11.0</td>\n",
              "      <td>48.5</td>\n",
              "      <td>59.7</td>\n",
              "      <td>8.2</td>\n",
              "    </tr>\n",
              "    <tr>\n",
              "      <th>31</th>\n",
              "      <td>1.8</td>\n",
              "      <td>4.2</td>\n",
              "      <td>19.1</td>\n",
              "      <td>1.0</td>\n",
              "      <td>0.4</td>\n",
              "      <td>0.8</td>\n",
              "      <td>0.4</td>\n",
              "      <td>0.3</td>\n",
              "    </tr>\n",
              "    <tr>\n",
              "      <th>40</th>\n",
              "      <td>8.8</td>\n",
              "      <td>3.6</td>\n",
              "      <td>43.5</td>\n",
              "      <td>3.3</td>\n",
              "      <td>4.8</td>\n",
              "      <td>11.7</td>\n",
              "      <td>8.3</td>\n",
              "      <td>4.9</td>\n",
              "    </tr>\n",
              "    <tr>\n",
              "      <th>29</th>\n",
              "      <td>10.4</td>\n",
              "      <td>9.3</td>\n",
              "      <td>57.4</td>\n",
              "      <td>4.8</td>\n",
              "      <td>5.3</td>\n",
              "      <td>10.7</td>\n",
              "      <td>7.0</td>\n",
              "      <td>1.2</td>\n",
              "    </tr>\n",
              "    <tr>\n",
              "      <th>46</th>\n",
              "      <td>7.1</td>\n",
              "      <td>4.7</td>\n",
              "      <td>42.3</td>\n",
              "      <td>2.4</td>\n",
              "      <td>4.0</td>\n",
              "      <td>11.2</td>\n",
              "      <td>10.1</td>\n",
              "      <td>1.8</td>\n",
              "    </tr>\n",
              "    <tr>\n",
              "      <th>1</th>\n",
              "      <td>11.2</td>\n",
              "      <td>5.0</td>\n",
              "      <td>50.4</td>\n",
              "      <td>7.2</td>\n",
              "      <td>2.8</td>\n",
              "      <td>28.6</td>\n",
              "      <td>33.7</td>\n",
              "      <td>2.7</td>\n",
              "    </tr>\n",
              "    <tr>\n",
              "      <th>21</th>\n",
              "      <td>5.1</td>\n",
              "      <td>5.1</td>\n",
              "      <td>42.0</td>\n",
              "      <td>3.7</td>\n",
              "      <td>4.5</td>\n",
              "      <td>9.4</td>\n",
              "      <td>9.0</td>\n",
              "      <td>1.5</td>\n",
              "    </tr>\n",
              "    <tr>\n",
              "      <th>2</th>\n",
              "      <td>10.4</td>\n",
              "      <td>16.8</td>\n",
              "      <td>57.4</td>\n",
              "      <td>3.5</td>\n",
              "      <td>5.2</td>\n",
              "      <td>13.9</td>\n",
              "      <td>14.9</td>\n",
              "      <td>3.3</td>\n",
              "    </tr>\n",
              "    <tr>\n",
              "      <th>41</th>\n",
              "      <td>7.1</td>\n",
              "      <td>6.4</td>\n",
              "      <td>46.7</td>\n",
              "      <td>3.1</td>\n",
              "      <td>17.0</td>\n",
              "      <td>10.5</td>\n",
              "      <td>25.5</td>\n",
              "      <td>2.2</td>\n",
              "    </tr>\n",
              "    <tr>\n",
              "      <th>39</th>\n",
              "      <td>7.5</td>\n",
              "      <td>5.9</td>\n",
              "      <td>44.0</td>\n",
              "      <td>4.7</td>\n",
              "      <td>2.8</td>\n",
              "      <td>19.6</td>\n",
              "      <td>27.4</td>\n",
              "      <td>1.0</td>\n",
              "    </tr>\n",
              "    <tr>\n",
              "      <th>35</th>\n",
              "      <td>6.6</td>\n",
              "      <td>3.5</td>\n",
              "      <td>35.3</td>\n",
              "      <td>9.3</td>\n",
              "      <td>1.4</td>\n",
              "      <td>8.4</td>\n",
              "      <td>14.0</td>\n",
              "      <td>2.3</td>\n",
              "    </tr>\n",
              "    <tr>\n",
              "      <th>23</th>\n",
              "      <td>9.3</td>\n",
              "      <td>7.2</td>\n",
              "      <td>46.6</td>\n",
              "      <td>6.0</td>\n",
              "      <td>3.2</td>\n",
              "      <td>5.5</td>\n",
              "      <td>7.4</td>\n",
              "      <td>2.2</td>\n",
              "    </tr>\n",
              "    <tr>\n",
              "      <th>43</th>\n",
              "      <td>5.7</td>\n",
              "      <td>2.7</td>\n",
              "      <td>32.7</td>\n",
              "      <td>2.1</td>\n",
              "      <td>2.6</td>\n",
              "      <td>2.0</td>\n",
              "      <td>5.7</td>\n",
              "      <td>0.8</td>\n",
              "    </tr>\n",
              "    <tr>\n",
              "      <th>10</th>\n",
              "      <td>4.2</td>\n",
              "      <td>3.3</td>\n",
              "      <td>24.9</td>\n",
              "      <td>6.1</td>\n",
              "      <td>1.4</td>\n",
              "      <td>3.2</td>\n",
              "      <td>6.0</td>\n",
              "      <td>1.7</td>\n",
              "    </tr>\n",
              "    <tr>\n",
              "      <th>22</th>\n",
              "      <td>10.1</td>\n",
              "      <td>2.4</td>\n",
              "      <td>38.9</td>\n",
              "      <td>12.2</td>\n",
              "      <td>5.4</td>\n",
              "      <td>22.1</td>\n",
              "      <td>43.5</td>\n",
              "      <td>5.0</td>\n",
              "    </tr>\n",
              "    <tr>\n",
              "      <th>18</th>\n",
              "      <td>9.1</td>\n",
              "      <td>5.1</td>\n",
              "      <td>47.1</td>\n",
              "      <td>4.2</td>\n",
              "      <td>6.6</td>\n",
              "      <td>9.0</td>\n",
              "      <td>15.6</td>\n",
              "      <td>2.2</td>\n",
              "    </tr>\n",
              "    <tr>\n",
              "      <th>53</th>\n",
              "      <td>5.3</td>\n",
              "      <td>6.5</td>\n",
              "      <td>37.4</td>\n",
              "      <td>3.0</td>\n",
              "      <td>1.6</td>\n",
              "      <td>2.2</td>\n",
              "      <td>5.5</td>\n",
              "      <td>1.8</td>\n",
              "    </tr>\n",
              "    <tr>\n",
              "      <th>20</th>\n",
              "      <td>6.8</td>\n",
              "      <td>5.1</td>\n",
              "      <td>35.8</td>\n",
              "      <td>8.0</td>\n",
              "      <td>1.4</td>\n",
              "      <td>7.0</td>\n",
              "      <td>7.7</td>\n",
              "      <td>1.7</td>\n",
              "    </tr>\n",
              "    <tr>\n",
              "      <th>7</th>\n",
              "      <td>7.4</td>\n",
              "      <td>5.4</td>\n",
              "      <td>43.1</td>\n",
              "      <td>5.6</td>\n",
              "      <td>1.8</td>\n",
              "      <td>17.7</td>\n",
              "      <td>21.2</td>\n",
              "      <td>1.8</td>\n",
              "    </tr>\n",
              "    <tr>\n",
              "      <th>42</th>\n",
              "      <td>11.9</td>\n",
              "      <td>4.8</td>\n",
              "      <td>53.5</td>\n",
              "      <td>5.6</td>\n",
              "      <td>3.6</td>\n",
              "      <td>31.5</td>\n",
              "      <td>29.4</td>\n",
              "      <td>2.5</td>\n",
              "    </tr>\n",
              "    <tr>\n",
              "      <th>14</th>\n",
              "      <td>9.0</td>\n",
              "      <td>3.4</td>\n",
              "      <td>38.7</td>\n",
              "      <td>15.3</td>\n",
              "      <td>2.0</td>\n",
              "      <td>26.5</td>\n",
              "      <td>25.5</td>\n",
              "      <td>5.8</td>\n",
              "    </tr>\n",
              "    <tr>\n",
              "      <th>28</th>\n",
              "      <td>7.8</td>\n",
              "      <td>7.6</td>\n",
              "      <td>42.4</td>\n",
              "      <td>5.9</td>\n",
              "      <td>9.1</td>\n",
              "      <td>13.7</td>\n",
              "      <td>10.9</td>\n",
              "      <td>4.0</td>\n",
              "    </tr>\n",
              "    <tr>\n",
              "      <th>51</th>\n",
              "      <td>10.3</td>\n",
              "      <td>6.7</td>\n",
              "      <td>44.5</td>\n",
              "      <td>3.3</td>\n",
              "      <td>3.4</td>\n",
              "      <td>4.9</td>\n",
              "      <td>7.1</td>\n",
              "      <td>1.9</td>\n",
              "    </tr>\n",
              "    <tr>\n",
              "      <th>38</th>\n",
              "      <td>12.0</td>\n",
              "      <td>6.6</td>\n",
              "      <td>49.8</td>\n",
              "      <td>6.9</td>\n",
              "      <td>8.5</td>\n",
              "      <td>8.0</td>\n",
              "      <td>11.7</td>\n",
              "      <td>3.5</td>\n",
              "    </tr>\n",
              "  </tbody>\n",
              "</table>\n",
              "</div>\n",
              "      <button class=\"colab-df-convert\" onclick=\"convertToInteractive('df-f9b39b3b-b3a9-4da0-a2c6-8e5511f823a3')\"\n",
              "              title=\"Convert this dataframe to an interactive table.\"\n",
              "              style=\"display:none;\">\n",
              "        \n",
              "  <svg xmlns=\"http://www.w3.org/2000/svg\" height=\"24px\"viewBox=\"0 0 24 24\"\n",
              "       width=\"24px\">\n",
              "    <path d=\"M0 0h24v24H0V0z\" fill=\"none\"/>\n",
              "    <path d=\"M18.56 5.44l.94 2.06.94-2.06 2.06-.94-2.06-.94-.94-2.06-.94 2.06-2.06.94zm-11 1L8.5 8.5l.94-2.06 2.06-.94-2.06-.94L8.5 2.5l-.94 2.06-2.06.94zm10 10l.94 2.06.94-2.06 2.06-.94-2.06-.94-.94-2.06-.94 2.06-2.06.94z\"/><path d=\"M17.41 7.96l-1.37-1.37c-.4-.4-.92-.59-1.43-.59-.52 0-1.04.2-1.43.59L10.3 9.45l-7.72 7.72c-.78.78-.78 2.05 0 2.83L4 21.41c.39.39.9.59 1.41.59.51 0 1.02-.2 1.41-.59l7.78-7.78 2.81-2.81c.8-.78.8-2.07 0-2.86zM5.41 20L4 18.59l7.72-7.72 1.47 1.35L5.41 20z\"/>\n",
              "  </svg>\n",
              "      </button>\n",
              "      \n",
              "  <style>\n",
              "    .colab-df-container {\n",
              "      display:flex;\n",
              "      flex-wrap:wrap;\n",
              "      gap: 12px;\n",
              "    }\n",
              "\n",
              "    .colab-df-convert {\n",
              "      background-color: #E8F0FE;\n",
              "      border: none;\n",
              "      border-radius: 50%;\n",
              "      cursor: pointer;\n",
              "      display: none;\n",
              "      fill: #1967D2;\n",
              "      height: 32px;\n",
              "      padding: 0 0 0 0;\n",
              "      width: 32px;\n",
              "    }\n",
              "\n",
              "    .colab-df-convert:hover {\n",
              "      background-color: #E2EBFA;\n",
              "      box-shadow: 0px 1px 2px rgba(60, 64, 67, 0.3), 0px 1px 3px 1px rgba(60, 64, 67, 0.15);\n",
              "      fill: #174EA6;\n",
              "    }\n",
              "\n",
              "    [theme=dark] .colab-df-convert {\n",
              "      background-color: #3B4455;\n",
              "      fill: #D2E3FC;\n",
              "    }\n",
              "\n",
              "    [theme=dark] .colab-df-convert:hover {\n",
              "      background-color: #434B5C;\n",
              "      box-shadow: 0px 1px 3px 1px rgba(0, 0, 0, 0.15);\n",
              "      filter: drop-shadow(0px 1px 2px rgba(0, 0, 0, 0.3));\n",
              "      fill: #FFFFFF;\n",
              "    }\n",
              "  </style>\n",
              "\n",
              "      <script>\n",
              "        const buttonEl =\n",
              "          document.querySelector('#df-f9b39b3b-b3a9-4da0-a2c6-8e5511f823a3 button.colab-df-convert');\n",
              "        buttonEl.style.display =\n",
              "          google.colab.kernel.accessAllowed ? 'block' : 'none';\n",
              "\n",
              "        async function convertToInteractive(key) {\n",
              "          const element = document.querySelector('#df-f9b39b3b-b3a9-4da0-a2c6-8e5511f823a3');\n",
              "          const dataTable =\n",
              "            await google.colab.kernel.invokeFunction('convertToInteractive',\n",
              "                                                     [key], {});\n",
              "          if (!dataTable) return;\n",
              "\n",
              "          const docLinkHtml = 'Like what you see? Visit the ' +\n",
              "            '<a target=\"_blank\" href=https://colab.research.google.com/notebooks/data_table.ipynb>data table notebook</a>'\n",
              "            + ' to learn more about interactive tables.';\n",
              "          element.innerHTML = '';\n",
              "          dataTable['output_type'] = 'display_data';\n",
              "          await google.colab.output.renderOutput(dataTable, element);\n",
              "          const docLink = document.createElement('div');\n",
              "          docLink.innerHTML = docLinkHtml;\n",
              "          element.appendChild(docLink);\n",
              "        }\n",
              "      </script>\n",
              "    </div>\n",
              "  </div>\n",
              "  "
            ]
          },
          "metadata": {},
          "execution_count": 20
        }
      ]
    },
    {
      "cell_type": "code",
      "source": [
        "X_test = X_test.drop(['psiss'], axis=1)"
      ],
      "metadata": {
        "id": "KH2puH3T78K7"
      },
      "execution_count": null,
      "outputs": []
    },
    {
      "cell_type": "code",
      "source": [
        "estandariza = StandardScaler()"
      ],
      "metadata": {
        "id": "nmKLBvFV7_Fk"
      },
      "execution_count": null,
      "outputs": []
    },
    {
      "cell_type": "code",
      "source": [
        "X_train = estandariza.fit_transform(X_train)"
      ],
      "metadata": {
        "id": "poABZgxy8BxM"
      },
      "execution_count": null,
      "outputs": []
    },
    {
      "cell_type": "code",
      "source": [
        "X_test = estandariza.fit_transform(X_test)"
      ],
      "metadata": {
        "id": "-SSEE7Qo8FJ0"
      },
      "execution_count": null,
      "outputs": []
    },
    {
      "cell_type": "code",
      "source": [
        "#CON K = 10\n",
        "knnreg = KNeighborsRegressor(10)"
      ],
      "metadata": {
        "id": "o47WOmgx8Gu8"
      },
      "execution_count": null,
      "outputs": []
    },
    {
      "cell_type": "code",
      "source": [
        "knnreg.fit(X_train,y_train)"
      ],
      "metadata": {
        "colab": {
          "base_uri": "https://localhost:8080/",
          "height": 75
        },
        "id": "Asp-JCpQ8QCQ",
        "outputId": "04fd7e6d-ace7-4099-d5c0-283822efdbf8"
      },
      "execution_count": null,
      "outputs": [
        {
          "output_type": "execute_result",
          "data": {
            "text/plain": [
              "KNeighborsRegressor(n_neighbors=10)"
            ],
            "text/html": [
              "<style>#sk-container-id-1 {color: black;background-color: white;}#sk-container-id-1 pre{padding: 0;}#sk-container-id-1 div.sk-toggleable {background-color: white;}#sk-container-id-1 label.sk-toggleable__label {cursor: pointer;display: block;width: 100%;margin-bottom: 0;padding: 0.3em;box-sizing: border-box;text-align: center;}#sk-container-id-1 label.sk-toggleable__label-arrow:before {content: \"▸\";float: left;margin-right: 0.25em;color: #696969;}#sk-container-id-1 label.sk-toggleable__label-arrow:hover:before {color: black;}#sk-container-id-1 div.sk-estimator:hover label.sk-toggleable__label-arrow:before {color: black;}#sk-container-id-1 div.sk-toggleable__content {max-height: 0;max-width: 0;overflow: hidden;text-align: left;background-color: #f0f8ff;}#sk-container-id-1 div.sk-toggleable__content pre {margin: 0.2em;color: black;border-radius: 0.25em;background-color: #f0f8ff;}#sk-container-id-1 input.sk-toggleable__control:checked~div.sk-toggleable__content {max-height: 200px;max-width: 100%;overflow: auto;}#sk-container-id-1 input.sk-toggleable__control:checked~label.sk-toggleable__label-arrow:before {content: \"▾\";}#sk-container-id-1 div.sk-estimator input.sk-toggleable__control:checked~label.sk-toggleable__label {background-color: #d4ebff;}#sk-container-id-1 div.sk-label input.sk-toggleable__control:checked~label.sk-toggleable__label {background-color: #d4ebff;}#sk-container-id-1 input.sk-hidden--visually {border: 0;clip: rect(1px 1px 1px 1px);clip: rect(1px, 1px, 1px, 1px);height: 1px;margin: -1px;overflow: hidden;padding: 0;position: absolute;width: 1px;}#sk-container-id-1 div.sk-estimator {font-family: monospace;background-color: #f0f8ff;border: 1px dotted black;border-radius: 0.25em;box-sizing: border-box;margin-bottom: 0.5em;}#sk-container-id-1 div.sk-estimator:hover {background-color: #d4ebff;}#sk-container-id-1 div.sk-parallel-item::after {content: \"\";width: 100%;border-bottom: 1px solid gray;flex-grow: 1;}#sk-container-id-1 div.sk-label:hover label.sk-toggleable__label {background-color: #d4ebff;}#sk-container-id-1 div.sk-serial::before {content: \"\";position: absolute;border-left: 1px solid gray;box-sizing: border-box;top: 0;bottom: 0;left: 50%;z-index: 0;}#sk-container-id-1 div.sk-serial {display: flex;flex-direction: column;align-items: center;background-color: white;padding-right: 0.2em;padding-left: 0.2em;position: relative;}#sk-container-id-1 div.sk-item {position: relative;z-index: 1;}#sk-container-id-1 div.sk-parallel {display: flex;align-items: stretch;justify-content: center;background-color: white;position: relative;}#sk-container-id-1 div.sk-item::before, #sk-container-id-1 div.sk-parallel-item::before {content: \"\";position: absolute;border-left: 1px solid gray;box-sizing: border-box;top: 0;bottom: 0;left: 50%;z-index: -1;}#sk-container-id-1 div.sk-parallel-item {display: flex;flex-direction: column;z-index: 1;position: relative;background-color: white;}#sk-container-id-1 div.sk-parallel-item:first-child::after {align-self: flex-end;width: 50%;}#sk-container-id-1 div.sk-parallel-item:last-child::after {align-self: flex-start;width: 50%;}#sk-container-id-1 div.sk-parallel-item:only-child::after {width: 0;}#sk-container-id-1 div.sk-dashed-wrapped {border: 1px dashed gray;margin: 0 0.4em 0.5em 0.4em;box-sizing: border-box;padding-bottom: 0.4em;background-color: white;}#sk-container-id-1 div.sk-label label {font-family: monospace;font-weight: bold;display: inline-block;line-height: 1.2em;}#sk-container-id-1 div.sk-label-container {text-align: center;}#sk-container-id-1 div.sk-container {/* jupyter's `normalize.less` sets `[hidden] { display: none; }` but bootstrap.min.css set `[hidden] { display: none !important; }` so we also need the `!important` here to be able to override the default hidden behavior on the sphinx rendered scikit-learn.org. See: https://github.com/scikit-learn/scikit-learn/issues/21755 */display: inline-block !important;position: relative;}#sk-container-id-1 div.sk-text-repr-fallback {display: none;}</style><div id=\"sk-container-id-1\" class=\"sk-top-container\"><div class=\"sk-text-repr-fallback\"><pre>KNeighborsRegressor(n_neighbors=10)</pre><b>In a Jupyter environment, please rerun this cell to show the HTML representation or trust the notebook. <br />On GitHub, the HTML representation is unable to render, please try loading this page with nbviewer.org.</b></div><div class=\"sk-container\" hidden><div class=\"sk-item\"><div class=\"sk-estimator sk-toggleable\"><input class=\"sk-toggleable__control sk-hidden--visually\" id=\"sk-estimator-id-1\" type=\"checkbox\" checked><label for=\"sk-estimator-id-1\" class=\"sk-toggleable__label sk-toggleable__label-arrow\">KNeighborsRegressor</label><div class=\"sk-toggleable__content\"><pre>KNeighborsRegressor(n_neighbors=10)</pre></div></div></div></div></div>"
            ]
          },
          "metadata": {},
          "execution_count": 26
        }
      ]
    },
    {
      "cell_type": "code",
      "source": [
        "pronostico = knnreg.predict(X_test)"
      ],
      "metadata": {
        "id": "RfhplZiU8Six"
      },
      "execution_count": null,
      "outputs": []
    },
    {
      "cell_type": "code",
      "source": [
        "pronostico"
      ],
      "metadata": {
        "colab": {
          "base_uri": "https://localhost:8080/"
        },
        "id": "D38KNX1p8UNY",
        "outputId": "ad31e17e-1601-4690-e613-75eb5b948744"
      },
      "execution_count": null,
      "outputs": [
        {
          "output_type": "execute_result",
          "data": {
            "text/plain": [
              "array([18.38, 16.24, 14.57, 18.3 , 18.08, 16.79, 19.63, 13.56, 17.16,\n",
              "       15.38, 12.51, 16.69, 16.77, 16.11, 14.14, 18.04, 16.89])"
            ]
          },
          "metadata": {},
          "execution_count": 28
        }
      ]
    },
    {
      "cell_type": "code",
      "source": [
        "#EFICIENCIA\n",
        "print(knnreg.score(X_test,y_test))"
      ],
      "metadata": {
        "colab": {
          "base_uri": "https://localhost:8080/"
        },
        "id": "XWh4iFNZ8XxJ",
        "outputId": "3cd4b139-e1ce-4599-9d34-09249464c54a"
      },
      "execution_count": null,
      "outputs": [
        {
          "output_type": "stream",
          "name": "stdout",
          "text": [
            "0.16021207056125764\n"
          ]
        }
      ]
    },
    {
      "cell_type": "code",
      "source": [
        "y_test"
      ],
      "metadata": {
        "id": "uVz7qIxp8d7u"
      },
      "execution_count": null,
      "outputs": []
    },
    {
      "cell_type": "code",
      "source": [
        "datosP = ps.read_csv('datos_a_pronosticar2.csv', delimiter=';')\n",
        "datosP_m = datosP.drop(['Municipio', 'Poblacion'], axis=1)\n",
        "datosP_m = estandariza.fit_transform(datosP_m)\n",
        "pronostico2 = knnreg.predict(datosP_m)"
      ],
      "metadata": {
        "id": "ZR4dCm8d8gZW"
      },
      "execution_count": null,
      "outputs": []
    },
    {
      "cell_type": "code",
      "source": [
        "pronostico2"
      ],
      "metadata": {
        "colab": {
          "base_uri": "https://localhost:8080/"
        },
        "id": "CARE2U_H94SO",
        "outputId": "6ee39f64-38b1-48a1-cd1f-eb31d0dfe008"
      },
      "execution_count": null,
      "outputs": [
        {
          "output_type": "execute_result",
          "data": {
            "text/plain": [
              "array([16.69, 16.11, 19.02, 12.96])"
            ]
          },
          "metadata": {},
          "execution_count": 41
        }
      ]
    },
    {
      "cell_type": "code",
      "source": [
        "#PRONOSTICO PSISS\n",
        "datosP = datosP.assign(psiss = pronostico2)"
      ],
      "metadata": {
        "id": "4sae-C7k8sOM"
      },
      "execution_count": null,
      "outputs": []
    },
    {
      "cell_type": "code",
      "source": [
        "datosP"
      ],
      "metadata": {
        "colab": {
          "base_uri": "https://localhost:8080/",
          "height": 175
        },
        "id": "fhswVx2Z9xs2",
        "outputId": "dfceda98-2d74-4414-e0c4-dc47ae6023b0"
      },
      "execution_count": null,
      "outputs": [
        {
          "output_type": "execute_result",
          "data": {
            "text/plain": [
              "            Municipio Poblacion  p15a  p6a14noe  p15ymbin  vipt  visexsa  \\\n",
              "0  Cerro de San Pedro     5,050   4.4       3.5      28.4   3.9      2.6   \n",
              "1               Ebano    40,899   6.5       4.8      36.1   4.3      1.4   \n",
              "2            Tamasopo    29,184  10.4       5.7      48.9   8.7      6.0   \n",
              "3            Aquismón    48,359  15.3       5.6      49.0  20.0      4.3   \n",
              "\n",
              "   visagen  visidr  visee  psiss  \n",
              "0      5.2     7.1    2.9  16.69  \n",
              "1      5.5    21.7    1.5  16.11  \n",
              "2     17.8    15.7    5.1  19.02  \n",
              "3     27.3    47.2    7.8  12.96  "
            ],
            "text/html": [
              "\n",
              "  <div id=\"df-b1b33f08-64a5-4fec-88df-3dfbe5e3fae6\">\n",
              "    <div class=\"colab-df-container\">\n",
              "      <div>\n",
              "<style scoped>\n",
              "    .dataframe tbody tr th:only-of-type {\n",
              "        vertical-align: middle;\n",
              "    }\n",
              "\n",
              "    .dataframe tbody tr th {\n",
              "        vertical-align: top;\n",
              "    }\n",
              "\n",
              "    .dataframe thead th {\n",
              "        text-align: right;\n",
              "    }\n",
              "</style>\n",
              "<table border=\"1\" class=\"dataframe\">\n",
              "  <thead>\n",
              "    <tr style=\"text-align: right;\">\n",
              "      <th></th>\n",
              "      <th>Municipio</th>\n",
              "      <th>Poblacion</th>\n",
              "      <th>p15a</th>\n",
              "      <th>p6a14noe</th>\n",
              "      <th>p15ymbin</th>\n",
              "      <th>vipt</th>\n",
              "      <th>visexsa</th>\n",
              "      <th>visagen</th>\n",
              "      <th>visidr</th>\n",
              "      <th>visee</th>\n",
              "      <th>psiss</th>\n",
              "    </tr>\n",
              "  </thead>\n",
              "  <tbody>\n",
              "    <tr>\n",
              "      <th>0</th>\n",
              "      <td>Cerro de San Pedro</td>\n",
              "      <td>5,050</td>\n",
              "      <td>4.4</td>\n",
              "      <td>3.5</td>\n",
              "      <td>28.4</td>\n",
              "      <td>3.9</td>\n",
              "      <td>2.6</td>\n",
              "      <td>5.2</td>\n",
              "      <td>7.1</td>\n",
              "      <td>2.9</td>\n",
              "      <td>16.69</td>\n",
              "    </tr>\n",
              "    <tr>\n",
              "      <th>1</th>\n",
              "      <td>Ebano</td>\n",
              "      <td>40,899</td>\n",
              "      <td>6.5</td>\n",
              "      <td>4.8</td>\n",
              "      <td>36.1</td>\n",
              "      <td>4.3</td>\n",
              "      <td>1.4</td>\n",
              "      <td>5.5</td>\n",
              "      <td>21.7</td>\n",
              "      <td>1.5</td>\n",
              "      <td>16.11</td>\n",
              "    </tr>\n",
              "    <tr>\n",
              "      <th>2</th>\n",
              "      <td>Tamasopo</td>\n",
              "      <td>29,184</td>\n",
              "      <td>10.4</td>\n",
              "      <td>5.7</td>\n",
              "      <td>48.9</td>\n",
              "      <td>8.7</td>\n",
              "      <td>6.0</td>\n",
              "      <td>17.8</td>\n",
              "      <td>15.7</td>\n",
              "      <td>5.1</td>\n",
              "      <td>19.02</td>\n",
              "    </tr>\n",
              "    <tr>\n",
              "      <th>3</th>\n",
              "      <td>Aquismón</td>\n",
              "      <td>48,359</td>\n",
              "      <td>15.3</td>\n",
              "      <td>5.6</td>\n",
              "      <td>49.0</td>\n",
              "      <td>20.0</td>\n",
              "      <td>4.3</td>\n",
              "      <td>27.3</td>\n",
              "      <td>47.2</td>\n",
              "      <td>7.8</td>\n",
              "      <td>12.96</td>\n",
              "    </tr>\n",
              "  </tbody>\n",
              "</table>\n",
              "</div>\n",
              "      <button class=\"colab-df-convert\" onclick=\"convertToInteractive('df-b1b33f08-64a5-4fec-88df-3dfbe5e3fae6')\"\n",
              "              title=\"Convert this dataframe to an interactive table.\"\n",
              "              style=\"display:none;\">\n",
              "        \n",
              "  <svg xmlns=\"http://www.w3.org/2000/svg\" height=\"24px\"viewBox=\"0 0 24 24\"\n",
              "       width=\"24px\">\n",
              "    <path d=\"M0 0h24v24H0V0z\" fill=\"none\"/>\n",
              "    <path d=\"M18.56 5.44l.94 2.06.94-2.06 2.06-.94-2.06-.94-.94-2.06-.94 2.06-2.06.94zm-11 1L8.5 8.5l.94-2.06 2.06-.94-2.06-.94L8.5 2.5l-.94 2.06-2.06.94zm10 10l.94 2.06.94-2.06 2.06-.94-2.06-.94-.94-2.06-.94 2.06-2.06.94z\"/><path d=\"M17.41 7.96l-1.37-1.37c-.4-.4-.92-.59-1.43-.59-.52 0-1.04.2-1.43.59L10.3 9.45l-7.72 7.72c-.78.78-.78 2.05 0 2.83L4 21.41c.39.39.9.59 1.41.59.51 0 1.02-.2 1.41-.59l7.78-7.78 2.81-2.81c.8-.78.8-2.07 0-2.86zM5.41 20L4 18.59l7.72-7.72 1.47 1.35L5.41 20z\"/>\n",
              "  </svg>\n",
              "      </button>\n",
              "      \n",
              "  <style>\n",
              "    .colab-df-container {\n",
              "      display:flex;\n",
              "      flex-wrap:wrap;\n",
              "      gap: 12px;\n",
              "    }\n",
              "\n",
              "    .colab-df-convert {\n",
              "      background-color: #E8F0FE;\n",
              "      border: none;\n",
              "      border-radius: 50%;\n",
              "      cursor: pointer;\n",
              "      display: none;\n",
              "      fill: #1967D2;\n",
              "      height: 32px;\n",
              "      padding: 0 0 0 0;\n",
              "      width: 32px;\n",
              "    }\n",
              "\n",
              "    .colab-df-convert:hover {\n",
              "      background-color: #E2EBFA;\n",
              "      box-shadow: 0px 1px 2px rgba(60, 64, 67, 0.3), 0px 1px 3px 1px rgba(60, 64, 67, 0.15);\n",
              "      fill: #174EA6;\n",
              "    }\n",
              "\n",
              "    [theme=dark] .colab-df-convert {\n",
              "      background-color: #3B4455;\n",
              "      fill: #D2E3FC;\n",
              "    }\n",
              "\n",
              "    [theme=dark] .colab-df-convert:hover {\n",
              "      background-color: #434B5C;\n",
              "      box-shadow: 0px 1px 3px 1px rgba(0, 0, 0, 0.15);\n",
              "      filter: drop-shadow(0px 1px 2px rgba(0, 0, 0, 0.3));\n",
              "      fill: #FFFFFF;\n",
              "    }\n",
              "  </style>\n",
              "\n",
              "      <script>\n",
              "        const buttonEl =\n",
              "          document.querySelector('#df-b1b33f08-64a5-4fec-88df-3dfbe5e3fae6 button.colab-df-convert');\n",
              "        buttonEl.style.display =\n",
              "          google.colab.kernel.accessAllowed ? 'block' : 'none';\n",
              "\n",
              "        async function convertToInteractive(key) {\n",
              "          const element = document.querySelector('#df-b1b33f08-64a5-4fec-88df-3dfbe5e3fae6');\n",
              "          const dataTable =\n",
              "            await google.colab.kernel.invokeFunction('convertToInteractive',\n",
              "                                                     [key], {});\n",
              "          if (!dataTable) return;\n",
              "\n",
              "          const docLinkHtml = 'Like what you see? Visit the ' +\n",
              "            '<a target=\"_blank\" href=https://colab.research.google.com/notebooks/data_table.ipynb>data table notebook</a>'\n",
              "            + ' to learn more about interactive tables.';\n",
              "          element.innerHTML = '';\n",
              "          dataTable['output_type'] = 'display_data';\n",
              "          await google.colab.output.renderOutput(dataTable, element);\n",
              "          const docLink = document.createElement('div');\n",
              "          docLink.innerHTML = docLinkHtml;\n",
              "          element.appendChild(docLink);\n",
              "        }\n",
              "      </script>\n",
              "    </div>\n",
              "  </div>\n",
              "  "
            ]
          },
          "metadata": {},
          "execution_count": 39
        }
      ]
    }
  ]
}