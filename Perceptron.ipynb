{
  "nbformat": 4,
  "nbformat_minor": 0,
  "metadata": {
    "colab": {
      "provenance": []
    },
    "kernelspec": {
      "name": "python3",
      "display_name": "Python 3"
    },
    "language_info": {
      "name": "python"
    }
  },
  "cells": [
    {
      "cell_type": "code",
      "source": [
        "# Conjunto de Datos\n",
        "px = [2, 1, -2, -1]  # p1x, p2x, p3x, p4x\n",
        "py = [2, -2, 2, 1]   # p1y, p2y, p3y, p4y\n",
        "t = [0, 1, 0, 1]     # t1, t2, t3, t4\n",
        "\n",
        "# Pesos iniciales\n",
        "w = [0, 0]\n",
        "bias = 0\n",
        "\n",
        "# Resultados de la suma\n",
        "result = [0, 0, 0, 0]\n",
        "\n",
        "# Resultados de la clasificación\n",
        "a = [0, 0, 0, 0]\n"
      ],
      "metadata": {
        "id": "vbavhfGYyvId"
      },
      "execution_count": null,
      "outputs": []
    },
    {
      "cell_type": "code",
      "source": [
        "# Algoritmo del perceptrón\n",
        "perceptron = True\n",
        "while perceptron:\n",
        "  error1 = 0\n",
        "  for i in range(len(result)):\n",
        "    # Calcular el resultado de la suma ponderada\n",
        "    result[i] = (w[0] * px[i]) + (w[1] * py[i]) + bias\n",
        "\n",
        "    # Aplicar la función de activación para obtener la clasificación\n",
        "    if result[i] >= 0:\n",
        "      a[i] = 1\n",
        "    else:\n",
        "      a[i] = 0\n",
        "\n",
        "    # Calcular el error\n",
        "    error2 = (t[i] - a[i])\n",
        "\n",
        "    # Actualizar los pesos y el sesgo si el error es diferente de cero\n",
        "    if error2 != 0:\n",
        "      w[0] = w[0] + (error2 * px[i])\n",
        "      w[1] = w[1] + (error2 * py[i])\n",
        "      bias = bias + error2\n",
        "      error1 = 1\n",
        "\n",
        "  # Comprobar si todos los puntos de datos están clasificados correctamente\n",
        "  if error1 == 0:\n",
        "    perceptron = False\n"
      ],
      "metadata": {
        "id": "Oo1O8SJi1d2r"
      },
      "execution_count": null,
      "outputs": []
    },
    {
      "cell_type": "code",
      "source": [
        "# Mostramos resultados\n",
        "print(\"Suma: \" + str(result))\n",
        "print(\"Clasificacion: \" + str(a))\n",
        "print(\"Pesos \" + str(w))\n",
        "print(\"Bias: \" + str(bias))"
      ],
      "metadata": {
        "colab": {
          "base_uri": "https://localhost:8080/"
        },
        "id": "i3b_lSOQyBf4",
        "outputId": "4bfc8f15-76c0-406f-96d1-6fbd4bdd5066"
      },
      "execution_count": null,
      "outputs": [
        {
          "output_type": "stream",
          "name": "stdout",
          "text": [
            "Suma: [-9, 5, -1, 0]\n",
            "Clasificacion: [0, 1, 0, 1]\n",
            "Pesos [-2, -3]\n",
            "Bias: 1\n"
          ]
        }
      ]
    },
    {
      "cell_type": "code",
      "source": [
        "# Nuevo punto de datos\n",
        "px5 = 2\n",
        "py5 = -1\n",
        "\n",
        "# Calcular la suma ponderada del nuevo punto de datos\n",
        "sum.append((w[0] * px[len(px)-1]) + (w[1] * py[len(py)-1]) + bias)\n",
        "\n",
        "# Aplicar la función de activación para obtener la clasificación del nuevo punto de datos\n",
        "if sum[len(sum)-1] >= 0:\n",
        "  a.append(1)  # Clasificación positiva\n",
        "  t.append(1)  # Etiqueta positiva\n",
        "else:\n",
        "  a.append(0)  # Clasificación negativa\n",
        "  t.append(0)  # Etiqueta negativa\n"
      ],
      "metadata": {
        "id": "3y9iqJ5-yS75"
      },
      "execution_count": null,
      "outputs": []
    },
    {
      "cell_type": "code",
      "source": [
        "# Mostramos resultados\n",
        "print(\"Suma: \" + str(result))\n",
        "print(\"Clasificacion: \" + str(a))\n",
        "print(\"t: \" + str(t))\n",
        "print(\"Pesos \" + str(w))\n",
        "print(\"Bias: \" + str(bias))\n"
      ],
      "metadata": {
        "colab": {
          "base_uri": "https://localhost:8080/"
        },
        "id": "9_yYrH5dyjwl",
        "outputId": "5d5c933b-c357-42bb-bdcd-cf70757323cf"
      },
      "execution_count": null,
      "outputs": [
        {
          "output_type": "stream",
          "name": "stdout",
          "text": [
            "Suma: [-9, 5, -1, 0]\n",
            "Clasificacion: [0, 1, 0, 1, 1]\n",
            "t: [0, 1, 0, 1, 1]\n",
            "Pesos [-2, -3]\n",
            "Bias: 1\n"
          ]
        }
      ]
    }
  ]
}